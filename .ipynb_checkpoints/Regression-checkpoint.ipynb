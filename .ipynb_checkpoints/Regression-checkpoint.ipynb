{
 "cells": [
  {
   "cell_type": "code",
   "execution_count": 1,
   "metadata": {},
   "outputs": [
    {
     "name": "stderr",
     "output_type": "stream",
     "text": [
      "Using TensorFlow backend.\n",
      "/Library/Frameworks/Python.framework/Versions/3.7/lib/python3.7/site-packages/tensorflow/python/framework/dtypes.py:516: FutureWarning: Passing (type, 1) or '1type' as a synonym of type is deprecated; in a future version of numpy, it will be understood as (type, (1,)) / '(1,)type'.\n",
      "  _np_qint8 = np.dtype([(\"qint8\", np.int8, 1)])\n",
      "/Library/Frameworks/Python.framework/Versions/3.7/lib/python3.7/site-packages/tensorflow/python/framework/dtypes.py:517: FutureWarning: Passing (type, 1) or '1type' as a synonym of type is deprecated; in a future version of numpy, it will be understood as (type, (1,)) / '(1,)type'.\n",
      "  _np_quint8 = np.dtype([(\"quint8\", np.uint8, 1)])\n",
      "/Library/Frameworks/Python.framework/Versions/3.7/lib/python3.7/site-packages/tensorflow/python/framework/dtypes.py:518: FutureWarning: Passing (type, 1) or '1type' as a synonym of type is deprecated; in a future version of numpy, it will be understood as (type, (1,)) / '(1,)type'.\n",
      "  _np_qint16 = np.dtype([(\"qint16\", np.int16, 1)])\n",
      "/Library/Frameworks/Python.framework/Versions/3.7/lib/python3.7/site-packages/tensorflow/python/framework/dtypes.py:519: FutureWarning: Passing (type, 1) or '1type' as a synonym of type is deprecated; in a future version of numpy, it will be understood as (type, (1,)) / '(1,)type'.\n",
      "  _np_quint16 = np.dtype([(\"quint16\", np.uint16, 1)])\n",
      "/Library/Frameworks/Python.framework/Versions/3.7/lib/python3.7/site-packages/tensorflow/python/framework/dtypes.py:520: FutureWarning: Passing (type, 1) or '1type' as a synonym of type is deprecated; in a future version of numpy, it will be understood as (type, (1,)) / '(1,)type'.\n",
      "  _np_qint32 = np.dtype([(\"qint32\", np.int32, 1)])\n",
      "/Library/Frameworks/Python.framework/Versions/3.7/lib/python3.7/site-packages/tensorflow/python/framework/dtypes.py:525: FutureWarning: Passing (type, 1) or '1type' as a synonym of type is deprecated; in a future version of numpy, it will be understood as (type, (1,)) / '(1,)type'.\n",
      "  np_resource = np.dtype([(\"resource\", np.ubyte, 1)])\n",
      "/Library/Frameworks/Python.framework/Versions/3.7/lib/python3.7/site-packages/tensorboard/compat/tensorflow_stub/dtypes.py:541: FutureWarning: Passing (type, 1) or '1type' as a synonym of type is deprecated; in a future version of numpy, it will be understood as (type, (1,)) / '(1,)type'.\n",
      "  _np_qint8 = np.dtype([(\"qint8\", np.int8, 1)])\n",
      "/Library/Frameworks/Python.framework/Versions/3.7/lib/python3.7/site-packages/tensorboard/compat/tensorflow_stub/dtypes.py:542: FutureWarning: Passing (type, 1) or '1type' as a synonym of type is deprecated; in a future version of numpy, it will be understood as (type, (1,)) / '(1,)type'.\n",
      "  _np_quint8 = np.dtype([(\"quint8\", np.uint8, 1)])\n",
      "/Library/Frameworks/Python.framework/Versions/3.7/lib/python3.7/site-packages/tensorboard/compat/tensorflow_stub/dtypes.py:543: FutureWarning: Passing (type, 1) or '1type' as a synonym of type is deprecated; in a future version of numpy, it will be understood as (type, (1,)) / '(1,)type'.\n",
      "  _np_qint16 = np.dtype([(\"qint16\", np.int16, 1)])\n",
      "/Library/Frameworks/Python.framework/Versions/3.7/lib/python3.7/site-packages/tensorboard/compat/tensorflow_stub/dtypes.py:544: FutureWarning: Passing (type, 1) or '1type' as a synonym of type is deprecated; in a future version of numpy, it will be understood as (type, (1,)) / '(1,)type'.\n",
      "  _np_quint16 = np.dtype([(\"quint16\", np.uint16, 1)])\n",
      "/Library/Frameworks/Python.framework/Versions/3.7/lib/python3.7/site-packages/tensorboard/compat/tensorflow_stub/dtypes.py:545: FutureWarning: Passing (type, 1) or '1type' as a synonym of type is deprecated; in a future version of numpy, it will be understood as (type, (1,)) / '(1,)type'.\n",
      "  _np_qint32 = np.dtype([(\"qint32\", np.int32, 1)])\n",
      "/Library/Frameworks/Python.framework/Versions/3.7/lib/python3.7/site-packages/tensorboard/compat/tensorflow_stub/dtypes.py:550: FutureWarning: Passing (type, 1) or '1type' as a synonym of type is deprecated; in a future version of numpy, it will be understood as (type, (1,)) / '(1,)type'.\n",
      "  np_resource = np.dtype([(\"resource\", np.ubyte, 1)])\n"
     ]
    }
   ],
   "source": [
    "import numpy as np\n",
    "import matplotlib.pyplot as plt\n",
    "from keras.models import Sequential\n",
    "from keras.layers import Dense\n",
    "from keras.optimizers import Adam"
   ]
  },
  {
   "cell_type": "code",
   "execution_count": 2,
   "metadata": {},
   "outputs": [
    {
     "data": {
      "text/plain": [
       "<matplotlib.collections.PathCollection at 0x1380f57d0>"
      ]
     },
     "execution_count": 2,
     "metadata": {},
     "output_type": "execute_result"
    },
    {
     "data": {
      "image/png": "[encoded data removed]",
      "text/plain": [
       "<Figure size 432x288 with 1 Axes>"
      ]
     },
     "metadata": {
      "needs_background": "light"
     },
     "output_type": "display_data"
    }
   ],
   "source": [
    "np.random.seed(0)\n",
    "\n",
    "points = 500\n",
    "x = np.linspace(-3, 3, points)\n",
    "y = np.sin(x) + np.random.uniform(-0.5, 0.5, points)\n",
    "\n",
    "plt.scatter(x, y)"
   ]
  },
  {
   "cell_type": "code",
   "execution_count": 3,
   "metadata": {},
   "outputs": [
    {
     "name": "stderr",
     "output_type": "stream",
     "text": [
      "WARNING: Logging before flag parsing goes to stderr.\n",
      "W1011 19:05:28.865941 4549086528 deprecation_wrapper.py:119] From /Library/Frameworks/Python.framework/Versions/3.7/lib/python3.7/site-packages/keras/backend/tensorflow_backend.py:66: The name tf.get_default_graph is deprecated. Please use tf.compat.v1.get_default_graph instead.\n",
      "\n",
      "W1011 19:05:28.879013 4549086528 deprecation_wrapper.py:119] From /Library/Frameworks/Python.framework/Versions/3.7/lib/python3.7/site-packages/keras/backend/tensorflow_backend.py:541: The name tf.placeholder is deprecated. Please use tf.compat.v1.placeholder instead.\n",
      "\n",
      "W1011 19:05:28.881776 4549086528 deprecation_wrapper.py:119] From /Library/Frameworks/Python.framework/Versions/3.7/lib/python3.7/site-packages/keras/backend/tensorflow_backend.py:4432: The name tf.random_uniform is deprecated. Please use tf.random.uniform instead.\n",
      "\n"
     ]
    }
   ],
   "source": [
    "model = Sequential()\n",
    "model.add(Dense(50, activation='sigmoid', input_dim=1))\n",
    "model.add(Dense(30, activation='sigmoid'))\n",
    "model.add(Dense(1))"
   ]
  },
  {
   "cell_type": "code",
   "execution_count": 4,
   "metadata": {},
   "outputs": [
    {
     "name": "stderr",
     "output_type": "stream",
     "text": [
      "W1011 19:05:28.993196 4549086528 deprecation_wrapper.py:119] From /Library/Frameworks/Python.framework/Versions/3.7/lib/python3.7/site-packages/keras/optimizers.py:793: The name tf.train.Optimizer is deprecated. Please use tf.compat.v1.train.Optimizer instead.\n",
      "\n",
      "W1011 19:05:29.081349 4549086528 deprecation_wrapper.py:119] From /Library/Frameworks/Python.framework/Versions/3.7/lib/python3.7/site-packages/keras/backend/tensorflow_backend.py:1033: The name tf.assign_add is deprecated. Please use tf.compat.v1.assign_add instead.\n",
      "\n",
      "W1011 19:05:29.153676 4549086528 deprecation_wrapper.py:119] From /Library/Frameworks/Python.framework/Versions/3.7/lib/python3.7/site-packages/keras/backend/tensorflow_backend.py:1020: The name tf.assign is deprecated. Please use tf.compat.v1.assign instead.\n",
      "\n"
     ]
    },
    {
     "name": "stdout",
     "output_type": "stream",
     "text": [
      "Epoch 1/50\n",
      "500/500 [==============================] - 0s 370us/step - loss: 0.4444\n",
      "Epoch 2/50\n",
      "500/500 [==============================] - 0s 26us/step - loss: 0.2383\n",
      "Epoch 3/50\n",
      "500/500 [==============================] - 0s 27us/step - loss: 0.2658\n",
      "Epoch 4/50\n",
      "500/500 [==============================] - 0s 28us/step - loss: 0.2266\n",
      "Epoch 5/50\n",
      "500/500 [==============================] - 0s 29us/step - loss: 0.2283\n",
      "Epoch 6/50\n",
      "500/500 [==============================] - 0s 28us/step - loss: 0.2260\n",
      "Epoch 7/50\n",
      "500/500 [==============================] - 0s 27us/step - loss: 0.2192\n",
      "Epoch 8/50\n",
      "500/500 [==============================] - 0s 26us/step - loss: 0.2218\n",
      "Epoch 9/50\n",
      "500/500 [==============================] - 0s 26us/step - loss: 0.2062\n",
      "Epoch 10/50\n",
      "500/500 [==============================] - 0s 25us/step - loss: 0.1925\n",
      "Epoch 11/50\n",
      "500/500 [==============================] - 0s 25us/step - loss: 0.1926\n",
      "Epoch 12/50\n",
      "500/500 [==============================] - 0s 25us/step - loss: 0.1794\n",
      "Epoch 13/50\n",
      "500/500 [==============================] - 0s 25us/step - loss: 0.1702\n",
      "Epoch 14/50\n",
      "500/500 [==============================] - 0s 24us/step - loss: 0.1597\n",
      "Epoch 15/50\n",
      "500/500 [==============================] - 0s 24us/step - loss: 0.1572\n",
      "Epoch 16/50\n",
      "500/500 [==============================] - 0s 27us/step - loss: 0.1467\n",
      "Epoch 17/50\n",
      "500/500 [==============================] - 0s 25us/step - loss: 0.1407\n",
      "Epoch 18/50\n",
      "500/500 [==============================] - 0s 25us/step - loss: 0.1328\n",
      "Epoch 19/50\n",
      "500/500 [==============================] - 0s 26us/step - loss: 0.1235\n",
      "Epoch 20/50\n",
      "500/500 [==============================] - 0s 25us/step - loss: 0.1281\n",
      "Epoch 21/50\n",
      "500/500 [==============================] - 0s 25us/step - loss: 0.1188\n",
      "Epoch 22/50\n",
      "500/500 [==============================] - 0s 26us/step - loss: 0.1174\n",
      "Epoch 23/50\n",
      "500/500 [==============================] - 0s 25us/step - loss: 0.1191\n",
      "Epoch 24/50\n",
      "500/500 [==============================] - 0s 29us/step - loss: 0.1173\n",
      "Epoch 25/50\n",
      "500/500 [==============================] - 0s 29us/step - loss: 0.1111\n",
      "Epoch 26/50\n",
      "500/500 [==============================] - 0s 33us/step - loss: 0.1081\n",
      "Epoch 27/50\n",
      "500/500 [==============================] - 0s 27us/step - loss: 0.1111\n",
      "Epoch 28/50\n",
      "500/500 [==============================] - 0s 26us/step - loss: 0.1242\n",
      "Epoch 29/50\n",
      "500/500 [==============================] - 0s 24us/step - loss: 0.1236\n",
      "Epoch 30/50\n",
      "500/500 [==============================] - 0s 25us/step - loss: 0.1127\n",
      "Epoch 31/50\n",
      "500/500 [==============================] - 0s 24us/step - loss: 0.1077\n",
      "Epoch 32/50\n",
      "500/500 [==============================] - 0s 29us/step - loss: 0.1144\n",
      "Epoch 33/50\n",
      "500/500 [==============================] - 0s 28us/step - loss: 0.1079\n",
      "Epoch 34/50\n",
      "500/500 [==============================] - 0s 28us/step - loss: 0.1109\n",
      "Epoch 35/50\n",
      "500/500 [==============================] - 0s 26us/step - loss: 0.1045\n",
      "Epoch 36/50\n",
      "500/500 [==============================] - 0s 27us/step - loss: 0.1088\n",
      "Epoch 37/50\n",
      "500/500 [==============================] - 0s 26us/step - loss: 0.1067\n",
      "Epoch 38/50\n",
      "500/500 [==============================] - 0s 26us/step - loss: 0.1053\n",
      "Epoch 39/50\n",
      "500/500 [==============================] - 0s 27us/step - loss: 0.1049\n",
      "Epoch 40/50\n",
      "500/500 [==============================] - 0s 24us/step - loss: 0.1045\n",
      "Epoch 41/50\n",
      "500/500 [==============================] - 0s 26us/step - loss: 0.1152\n",
      "Epoch 42/50\n",
      "500/500 [==============================] - 0s 25us/step - loss: 0.1029\n",
      "Epoch 43/50\n",
      "500/500 [==============================] - 0s 25us/step - loss: 0.1030\n",
      "Epoch 44/50\n",
      "500/500 [==============================] - 0s 25us/step - loss: 0.1056\n",
      "Epoch 45/50\n",
      "500/500 [==============================] - 0s 25us/step - loss: 0.1018\n",
      "Epoch 46/50\n",
      "500/500 [==============================] - 0s 28us/step - loss: 0.1017\n",
      "Epoch 47/50\n",
      "500/500 [==============================] - 0s 28us/step - loss: 0.1121\n",
      "Epoch 48/50\n",
      "500/500 [==============================] - 0s 24us/step - loss: 0.1086\n",
      "Epoch 49/50\n",
      "500/500 [==============================] - 0s 26us/step - loss: 0.1041\n",
      "Epoch 50/50\n",
      "500/500 [==============================] - 0s 26us/step - loss: 0.1079\n"
     ]
    },
    {
     "data": {
      "text/plain": [
       "<keras.callbacks.History at 0x138121090>"
      ]
     },
     "execution_count": 4,
     "metadata": {},
     "output_type": "execute_result"
    }
   ],
   "source": [
    "adam = Adam(lr=0.01)\n",
    "model.compile(loss='mse', optimizer=adam)\n",
    "model.fit(x, y, epochs=50)"
   ]
  },
  {
   "cell_type": "code",
   "execution_count": 5,
   "metadata": {},
   "outputs": [
    {
     "data": {
      "image/png": "[encoded data removed]",
      "text/plain": [
       "<Figure size 432x288 with 1 Axes>"
      ]
     },
     "metadata": {
      "needs_background": "light"
     },
     "output_type": "display_data"
    }
   ],
   "source": [
    "predictions = model.predict(x)\n",
    "plt.scatter(x, y)\n",
    "plt.plot(x, predictions, 'ro')\n",
    "plt.show()"
   ]
  }
 ],
 "metadata": {
  "kernelspec": {
   "display_name": "Python 3",
   "language": "python",
   "name": "python3"
  },
  "language_info": {
   "codemirror_mode": {
    "name": "ipython",
    "version": 3
   },
   "file_extension": ".py",
   "mimetype": "text/x-python",
   "name": "python",
   "nbconvert_exporter": "python",
   "pygments_lexer": "ipython3",
   "version": "3.7.4"
  }
 },
 "nbformat": 4,
 "nbformat_minor": 4
}
