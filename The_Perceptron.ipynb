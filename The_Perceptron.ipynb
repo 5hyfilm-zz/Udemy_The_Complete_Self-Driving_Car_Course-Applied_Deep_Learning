{
 "cells": [
  {
   "cell_type": "markdown",
   "metadata": {},
   "source": [
    "# Part 1 Initial Stages_Logistic Regressions"
   ]
  },
  {
   "cell_type": "code",
   "execution_count": 2,
   "metadata": {},
   "outputs": [
    {
     "data": {
      "image/png": "[encoded data removed]",
      "text/plain": [
       "<Figure size 288x288 with 1 Axes>"
      ]
     },
     "metadata": {
      "needs_background": "light"
     },
     "output_type": "display_data"
    }
   ],
   "source": [
    "import numpy as np\n",
    "import matplotlib.pyplot as plt\n",
    "\n",
    "def draw(x1,x2):\n",
    "    ln = plt.plot(x1,x2)\n",
    "\n",
    "\n",
    "def sigmoid(score):\n",
    "    return 1/(1+np.exp(-score))\n",
    "\n",
    "def calculate_error(line_parameters, points , label):\n",
    "    m = points.shape[0]\n",
    "    probabilities = sigmoid(points*line_parameters)\n",
    "    cross_entropy = -(1/n)*(np.log(probabilities).T*label + np.log(1-probabilities).T*(1-label))\n",
    "    return cross_entropy\n",
    "\n",
    "def gradient_descent(line_parameters, points, label , alpha):\n",
    "    m = points.shape[0]\n",
    "    for i in range(2000):\n",
    "        probabilities = sigmoid(points*line_parameters)\n",
    "        gradient = points.T*(probabilities-label)*(alpha/m)\n",
    "        line_parameters = line_parameters - gradient\n",
    "    \n",
    "        w1 = line_parameters.item(0)\n",
    "        w2 = line_parameters.item(1)\n",
    "        b = line_parameters.item(2)\n",
    "    \n",
    "        x1 = np.array([points[:,0].min(), points[:,0].max()])\n",
    "        x2 = -b/w2 + (x1*(-w1/w2))\n",
    "    draw(x1,x2) \n",
    "  \n",
    "num_points = 100\n",
    "np.random.seed(0)\n",
    "bias = np.ones(num_points)\n",
    "top_region = np.array([np.random.normal(10,2,num_points), np.random.normal(12,2,num_points), bias]).T\n",
    "bottom_region = np.array([np.random.normal(5,2, num_points), np.random.normal(6,2, num_points), bias]).T\n",
    "all_points = np.vstack((top_region, bottom_region))\n",
    " \n",
    "line_parameters = np.matrix([np.zeros(3)]).T\n",
    "# x1=np.array([bottom_region[:,0].min(), top_region[:,0].max()])\n",
    "# x2= -b/w2 + (x1*(-w1/w2))\n",
    "label = np.array([np.zeros(num_points), np.ones(num_points)]).reshape(num_points*2, 1)\n",
    " \n",
    "_, ax = plt.subplots(figsize = (4,4))\n",
    "ax.scatter(top_region[:,0], top_region[:,1], color = 'r')\n",
    "ax.scatter(bottom_region[:,0], bottom_region[:,1], color = 'b')\n",
    "gradient_descent(line_parameters, all_points, label , 0.06)\n",
    "plt.show()"
   ]
  },
  {
   "cell_type": "code",
   "execution_count": null,
   "metadata": {},
   "outputs": [],
   "source": []
  }
 ],
 "metadata": {
  "kernelspec": {
   "display_name": "Python 3",
   "language": "python",
   "name": "python3"
  },
  "language_info": {
   "codemirror_mode": {
    "name": "ipython",
    "version": 3
   },
   "file_extension": ".py",
   "mimetype": "text/x-python",
   "name": "python",
   "nbconvert_exporter": "python",
   "pygments_lexer": "ipython3",
   "version": "3.7.4"
  }
 },
 "nbformat": 4,
 "nbformat_minor": 4
}
