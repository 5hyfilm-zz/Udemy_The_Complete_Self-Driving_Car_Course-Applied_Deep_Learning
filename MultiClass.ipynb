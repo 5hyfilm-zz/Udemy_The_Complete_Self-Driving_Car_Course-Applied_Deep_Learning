{
 "cells": [
  {
   "cell_type": "code",
   "execution_count": 1,
   "metadata": {},
   "outputs": [
    {
     "name": "stderr",
     "output_type": "stream",
     "text": [
      "Using TensorFlow backend.\n",
      "/Library/Frameworks/Python.framework/Versions/3.7/lib/python3.7/site-packages/tensorflow/python/framework/dtypes.py:516: FutureWarning: Passing (type, 1) or '1type' as a synonym of type is deprecated; in a future version of numpy, it will be understood as (type, (1,)) / '(1,)type'.\n",
      "  _np_qint8 = np.dtype([(\"qint8\", np.int8, 1)])\n",
      "/Library/Frameworks/Python.framework/Versions/3.7/lib/python3.7/site-packages/tensorflow/python/framework/dtypes.py:517: FutureWarning: Passing (type, 1) or '1type' as a synonym of type is deprecated; in a future version of numpy, it will be understood as (type, (1,)) / '(1,)type'.\n",
      "  _np_quint8 = np.dtype([(\"quint8\", np.uint8, 1)])\n",
      "/Library/Frameworks/Python.framework/Versions/3.7/lib/python3.7/site-packages/tensorflow/python/framework/dtypes.py:518: FutureWarning: Passing (type, 1) or '1type' as a synonym of type is deprecated; in a future version of numpy, it will be understood as (type, (1,)) / '(1,)type'.\n",
      "  _np_qint16 = np.dtype([(\"qint16\", np.int16, 1)])\n",
      "/Library/Frameworks/Python.framework/Versions/3.7/lib/python3.7/site-packages/tensorflow/python/framework/dtypes.py:519: FutureWarning: Passing (type, 1) or '1type' as a synonym of type is deprecated; in a future version of numpy, it will be understood as (type, (1,)) / '(1,)type'.\n",
      "  _np_quint16 = np.dtype([(\"quint16\", np.uint16, 1)])\n",
      "/Library/Frameworks/Python.framework/Versions/3.7/lib/python3.7/site-packages/tensorflow/python/framework/dtypes.py:520: FutureWarning: Passing (type, 1) or '1type' as a synonym of type is deprecated; in a future version of numpy, it will be understood as (type, (1,)) / '(1,)type'.\n",
      "  _np_qint32 = np.dtype([(\"qint32\", np.int32, 1)])\n",
      "/Library/Frameworks/Python.framework/Versions/3.7/lib/python3.7/site-packages/tensorflow/python/framework/dtypes.py:525: FutureWarning: Passing (type, 1) or '1type' as a synonym of type is deprecated; in a future version of numpy, it will be understood as (type, (1,)) / '(1,)type'.\n",
      "  np_resource = np.dtype([(\"resource\", np.ubyte, 1)])\n",
      "/Library/Frameworks/Python.framework/Versions/3.7/lib/python3.7/site-packages/tensorboard/compat/tensorflow_stub/dtypes.py:541: FutureWarning: Passing (type, 1) or '1type' as a synonym of type is deprecated; in a future version of numpy, it will be understood as (type, (1,)) / '(1,)type'.\n",
      "  _np_qint8 = np.dtype([(\"qint8\", np.int8, 1)])\n",
      "/Library/Frameworks/Python.framework/Versions/3.7/lib/python3.7/site-packages/tensorboard/compat/tensorflow_stub/dtypes.py:542: FutureWarning: Passing (type, 1) or '1type' as a synonym of type is deprecated; in a future version of numpy, it will be understood as (type, (1,)) / '(1,)type'.\n",
      "  _np_quint8 = np.dtype([(\"quint8\", np.uint8, 1)])\n",
      "/Library/Frameworks/Python.framework/Versions/3.7/lib/python3.7/site-packages/tensorboard/compat/tensorflow_stub/dtypes.py:543: FutureWarning: Passing (type, 1) or '1type' as a synonym of type is deprecated; in a future version of numpy, it will be understood as (type, (1,)) / '(1,)type'.\n",
      "  _np_qint16 = np.dtype([(\"qint16\", np.int16, 1)])\n",
      "/Library/Frameworks/Python.framework/Versions/3.7/lib/python3.7/site-packages/tensorboard/compat/tensorflow_stub/dtypes.py:544: FutureWarning: Passing (type, 1) or '1type' as a synonym of type is deprecated; in a future version of numpy, it will be understood as (type, (1,)) / '(1,)type'.\n",
      "  _np_quint16 = np.dtype([(\"quint16\", np.uint16, 1)])\n",
      "/Library/Frameworks/Python.framework/Versions/3.7/lib/python3.7/site-packages/tensorboard/compat/tensorflow_stub/dtypes.py:545: FutureWarning: Passing (type, 1) or '1type' as a synonym of type is deprecated; in a future version of numpy, it will be understood as (type, (1,)) / '(1,)type'.\n",
      "  _np_qint32 = np.dtype([(\"qint32\", np.int32, 1)])\n",
      "/Library/Frameworks/Python.framework/Versions/3.7/lib/python3.7/site-packages/tensorboard/compat/tensorflow_stub/dtypes.py:550: FutureWarning: Passing (type, 1) or '1type' as a synonym of type is deprecated; in a future version of numpy, it will be understood as (type, (1,)) / '(1,)type'.\n",
      "  np_resource = np.dtype([(\"resource\", np.ubyte, 1)])\n"
     ]
    }
   ],
   "source": [
    "import numpy as np\n",
    "import matplotlib.pyplot as plt\n",
    "from sklearn import datasets\n",
    "import keras\n",
    "from keras.models import Sequential\n",
    "from keras.layers import Dense\n",
    "from keras.optimizers import Adam\n",
    "from keras.utils.np_utils import to_categorical"
   ]
  },
  {
   "cell_type": "code",
   "execution_count": 2,
   "metadata": {},
   "outputs": [],
   "source": [
    "n_points = 500\n",
    "centers = [[-1, 1], [-1, -1], [1, -1]]\n",
    "X, y = datasets.make_blobs(n_samples=n_points, random_state=123, centers=centers, cluster_std=0.4)\n",
    "#print(X)\n",
    "#print(y)"
   ]
  },
  {
   "cell_type": "code",
   "execution_count": 3,
   "metadata": {},
   "outputs": [
    {
     "data": {
      "text/plain": [
       "<matplotlib.collections.PathCollection at 0x13d4aeed0>"
      ]
     },
     "execution_count": 3,
     "metadata": {},
     "output_type": "execute_result"
    },
    {
     "data": {
      "image/png": "[encoded data removed]",
      "text/plain": [
       "<Figure size 432x288 with 1 Axes>"
      ]
     },
     "metadata": {
      "needs_background": "light"
     },
     "output_type": "display_data"
    }
   ],
   "source": [
    "plt.scatter(X[y==0, 0], X[y==0, 1])\n",
    "plt.scatter(X[y==1, 0], X[y==1, 1])\n",
    "plt.scatter(X[y==2, 0], X[y==2, 1])"
   ]
  },
  {
   "cell_type": "code",
   "execution_count": 4,
   "metadata": {},
   "outputs": [
    {
     "name": "stdout",
     "output_type": "stream",
     "text": [
      "[[0. 0. 1.]\n",
      " [0. 0. 1.]\n",
      " [0. 0. 1.]\n",
      " ...\n",
      " [0. 1. 0.]\n",
      " [0. 1. 0.]\n",
      " [1. 0. 0.]]\n"
     ]
    }
   ],
   "source": [
    "y_cat = to_categorical(y, 3)\n",
    "print(y_cat)"
   ]
  },
  {
   "cell_type": "code",
   "execution_count": 5,
   "metadata": {},
   "outputs": [
    {
     "name": "stderr",
     "output_type": "stream",
     "text": [
      "WARNING: Logging before flag parsing goes to stderr.\n",
      "W1007 00:43:10.883132 4712261056 deprecation_wrapper.py:119] From /Library/Frameworks/Python.framework/Versions/3.7/lib/python3.7/site-packages/keras/backend/tensorflow_backend.py:66: The name tf.get_default_graph is deprecated. Please use tf.compat.v1.get_default_graph instead.\n",
      "\n",
      "W1007 00:43:10.899887 4712261056 deprecation_wrapper.py:119] From /Library/Frameworks/Python.framework/Versions/3.7/lib/python3.7/site-packages/keras/backend/tensorflow_backend.py:541: The name tf.placeholder is deprecated. Please use tf.compat.v1.placeholder instead.\n",
      "\n",
      "W1007 00:43:10.902372 4712261056 deprecation_wrapper.py:119] From /Library/Frameworks/Python.framework/Versions/3.7/lib/python3.7/site-packages/keras/backend/tensorflow_backend.py:4432: The name tf.random_uniform is deprecated. Please use tf.random.uniform instead.\n",
      "\n"
     ]
    }
   ],
   "source": [
    "model = Sequential()\n",
    "model.add(Dense(units=3, input_shape=(2,), activation='softmax'))"
   ]
  },
  {
   "cell_type": "code",
   "execution_count": 6,
   "metadata": {},
   "outputs": [
    {
     "name": "stderr",
     "output_type": "stream",
     "text": [
      "W1007 00:43:10.938231 4712261056 deprecation_wrapper.py:119] From /Library/Frameworks/Python.framework/Versions/3.7/lib/python3.7/site-packages/keras/optimizers.py:793: The name tf.train.Optimizer is deprecated. Please use tf.compat.v1.train.Optimizer instead.\n",
      "\n",
      "W1007 00:43:10.945079 4712261056 deprecation_wrapper.py:119] From /Library/Frameworks/Python.framework/Versions/3.7/lib/python3.7/site-packages/keras/backend/tensorflow_backend.py:3576: The name tf.log is deprecated. Please use tf.math.log instead.\n",
      "\n"
     ]
    }
   ],
   "source": [
    "model.compile(Adam(lr=0.1), loss='categorical_crossentropy', metrics=['accuracy'])"
   ]
  },
  {
   "cell_type": "code",
   "execution_count": 7,
   "metadata": {},
   "outputs": [
    {
     "name": "stderr",
     "output_type": "stream",
     "text": [
      "W1007 00:43:11.063846 4712261056 deprecation.py:323] From /Library/Frameworks/Python.framework/Versions/3.7/lib/python3.7/site-packages/tensorflow/python/ops/math_grad.py:1250: add_dispatch_support.<locals>.wrapper (from tensorflow.python.ops.array_ops) is deprecated and will be removed in a future version.\n",
      "Instructions for updating:\n",
      "Use tf.where in 2.0, which has the same broadcast rule as np.where\n",
      "W1007 00:43:11.103525 4712261056 deprecation_wrapper.py:119] From /Library/Frameworks/Python.framework/Versions/3.7/lib/python3.7/site-packages/keras/backend/tensorflow_backend.py:1033: The name tf.assign_add is deprecated. Please use tf.compat.v1.assign_add instead.\n",
      "\n"
     ]
    },
    {
     "name": "stdout",
     "output_type": "stream",
     "text": [
      "Epoch 1/100\n",
      "500/500 [==============================] - 0s 257us/step - loss: 0.5040 - acc: 0.8800\n",
      "Epoch 2/100\n",
      "500/500 [==============================] - 0s 17us/step - loss: 0.1632 - acc: 0.9900\n",
      "Epoch 3/100\n",
      "500/500 [==============================] - 0s 17us/step - loss: 0.0903 - acc: 0.9860\n",
      "Epoch 4/100\n",
      "500/500 [==============================] - 0s 17us/step - loss: 0.0708 - acc: 0.9860\n",
      "Epoch 5/100\n",
      "500/500 [==============================] - 0s 20us/step - loss: 0.0606 - acc: 0.9880\n",
      "Epoch 6/100\n",
      "500/500 [==============================] - 0s 17us/step - loss: 0.0556 - acc: 0.9880\n",
      "Epoch 7/100\n",
      "500/500 [==============================] - 0s 17us/step - loss: 0.0521 - acc: 0.9880\n",
      "Epoch 8/100\n",
      "500/500 [==============================] - 0s 18us/step - loss: 0.0495 - acc: 0.9880\n",
      "Epoch 9/100\n",
      "500/500 [==============================] - 0s 16us/step - loss: 0.0472 - acc: 0.9880\n",
      "Epoch 10/100\n",
      "500/500 [==============================] - 0s 17us/step - loss: 0.0453 - acc: 0.9880\n",
      "Epoch 11/100\n",
      "500/500 [==============================] - 0s 18us/step - loss: 0.0437 - acc: 0.9880\n",
      "Epoch 12/100\n",
      "500/500 [==============================] - 0s 15us/step - loss: 0.0424 - acc: 0.9880\n",
      "Epoch 13/100\n",
      "500/500 [==============================] - 0s 15us/step - loss: 0.0413 - acc: 0.9880\n",
      "Epoch 14/100\n",
      "500/500 [==============================] - 0s 15us/step - loss: 0.0401 - acc: 0.9900\n",
      "Epoch 15/100\n",
      "500/500 [==============================] - 0s 15us/step - loss: 0.0394 - acc: 0.9880\n",
      "Epoch 16/100\n",
      "500/500 [==============================] - 0s 17us/step - loss: 0.0397 - acc: 0.9900\n",
      "Epoch 17/100\n",
      "500/500 [==============================] - 0s 16us/step - loss: 0.0370 - acc: 0.9900\n",
      "Epoch 18/100\n",
      "500/500 [==============================] - 0s 15us/step - loss: 0.0366 - acc: 0.9880\n",
      "Epoch 19/100\n",
      "500/500 [==============================] - 0s 16us/step - loss: 0.0367 - acc: 0.9880\n",
      "Epoch 20/100\n",
      "500/500 [==============================] - 0s 16us/step - loss: 0.0354 - acc: 0.9900\n",
      "Epoch 21/100\n",
      "500/500 [==============================] - 0s 16us/step - loss: 0.0350 - acc: 0.9900\n",
      "Epoch 22/100\n",
      "500/500 [==============================] - 0s 16us/step - loss: 0.0346 - acc: 0.9900\n",
      "Epoch 23/100\n",
      "500/500 [==============================] - 0s 17us/step - loss: 0.0341 - acc: 0.9900\n",
      "Epoch 24/100\n",
      "500/500 [==============================] - 0s 17us/step - loss: 0.0338 - acc: 0.9900\n",
      "Epoch 25/100\n",
      "500/500 [==============================] - 0s 25us/step - loss: 0.0332 - acc: 0.9900\n",
      "Epoch 26/100\n",
      "500/500 [==============================] - 0s 19us/step - loss: 0.0335 - acc: 0.9900\n",
      "Epoch 27/100\n",
      "500/500 [==============================] - 0s 20us/step - loss: 0.0327 - acc: 0.9900\n",
      "Epoch 28/100\n",
      "500/500 [==============================] - 0s 18us/step - loss: 0.0321 - acc: 0.9900\n",
      "Epoch 29/100\n",
      "500/500 [==============================] - 0s 25us/step - loss: 0.0318 - acc: 0.9900\n",
      "Epoch 30/100\n",
      "500/500 [==============================] - 0s 17us/step - loss: 0.0315 - acc: 0.9900\n",
      "Epoch 31/100\n",
      "500/500 [==============================] - 0s 17us/step - loss: 0.0311 - acc: 0.9900\n",
      "Epoch 32/100\n",
      "500/500 [==============================] - 0s 16us/step - loss: 0.0309 - acc: 0.9900\n",
      "Epoch 33/100\n",
      "500/500 [==============================] - 0s 15us/step - loss: 0.0308 - acc: 0.9900\n",
      "Epoch 34/100\n",
      "500/500 [==============================] - 0s 16us/step - loss: 0.0303 - acc: 0.9900\n",
      "Epoch 35/100\n",
      "500/500 [==============================] - 0s 15us/step - loss: 0.0305 - acc: 0.9900\n",
      "Epoch 36/100\n",
      "500/500 [==============================] - 0s 15us/step - loss: 0.0299 - acc: 0.9900\n",
      "Epoch 37/100\n",
      "500/500 [==============================] - 0s 15us/step - loss: 0.0301 - acc: 0.9900\n",
      "Epoch 38/100\n",
      "500/500 [==============================] - 0s 15us/step - loss: 0.0308 - acc: 0.9900\n",
      "Epoch 39/100\n",
      "500/500 [==============================] - 0s 16us/step - loss: 0.0313 - acc: 0.9900\n",
      "Epoch 40/100\n",
      "500/500 [==============================] - 0s 15us/step - loss: 0.0302 - acc: 0.9900\n",
      "Epoch 41/100\n",
      "500/500 [==============================] - 0s 15us/step - loss: 0.0290 - acc: 0.9900\n",
      "Epoch 42/100\n",
      "500/500 [==============================] - 0s 16us/step - loss: 0.0287 - acc: 0.9900\n",
      "Epoch 43/100\n",
      "500/500 [==============================] - 0s 15us/step - loss: 0.0297 - acc: 0.9900\n",
      "Epoch 44/100\n",
      "500/500 [==============================] - 0s 17us/step - loss: 0.0290 - acc: 0.9900\n",
      "Epoch 45/100\n",
      "500/500 [==============================] - 0s 18us/step - loss: 0.0291 - acc: 0.9900\n",
      "Epoch 46/100\n",
      "500/500 [==============================] - 0s 20us/step - loss: 0.0290 - acc: 0.9900\n",
      "Epoch 47/100\n",
      "500/500 [==============================] - 0s 15us/step - loss: 0.0284 - acc: 0.9900\n",
      "Epoch 48/100\n",
      "500/500 [==============================] - 0s 17us/step - loss: 0.0285 - acc: 0.9900\n",
      "Epoch 49/100\n",
      "500/500 [==============================] - 0s 16us/step - loss: 0.0277 - acc: 0.9900\n",
      "Epoch 50/100\n",
      "500/500 [==============================] - 0s 15us/step - loss: 0.0281 - acc: 0.9900\n",
      "Epoch 51/100\n",
      "500/500 [==============================] - 0s 18us/step - loss: 0.0292 - acc: 0.9900\n",
      "Epoch 52/100\n",
      "500/500 [==============================] - 0s 15us/step - loss: 0.0290 - acc: 0.9900\n",
      "Epoch 53/100\n",
      "500/500 [==============================] - 0s 16us/step - loss: 0.0277 - acc: 0.9900\n",
      "Epoch 54/100\n",
      "500/500 [==============================] - 0s 17us/step - loss: 0.0273 - acc: 0.9900\n",
      "Epoch 55/100\n",
      "500/500 [==============================] - 0s 16us/step - loss: 0.0273 - acc: 0.9900\n",
      "Epoch 56/100\n",
      "500/500 [==============================] - 0s 16us/step - loss: 0.0273 - acc: 0.9900\n",
      "Epoch 57/100\n",
      "500/500 [==============================] - 0s 16us/step - loss: 0.0273 - acc: 0.9900\n",
      "Epoch 58/100\n",
      "500/500 [==============================] - 0s 15us/step - loss: 0.0270 - acc: 0.9900\n",
      "Epoch 59/100\n",
      "500/500 [==============================] - 0s 16us/step - loss: 0.0270 - acc: 0.9900\n",
      "Epoch 60/100\n",
      "500/500 [==============================] - 0s 16us/step - loss: 0.0266 - acc: 0.9900\n",
      "Epoch 61/100\n",
      "500/500 [==============================] - 0s 15us/step - loss: 0.0270 - acc: 0.9900\n",
      "Epoch 62/100\n",
      "500/500 [==============================] - 0s 16us/step - loss: 0.0276 - acc: 0.9900\n",
      "Epoch 63/100\n",
      "500/500 [==============================] - 0s 21us/step - loss: 0.0271 - acc: 0.9900\n",
      "Epoch 64/100\n",
      "500/500 [==============================] - 0s 16us/step - loss: 0.0264 - acc: 0.9900\n",
      "Epoch 65/100\n",
      "500/500 [==============================] - 0s 17us/step - loss: 0.0270 - acc: 0.9900\n",
      "Epoch 66/100\n",
      "500/500 [==============================] - 0s 16us/step - loss: 0.0274 - acc: 0.9900\n",
      "Epoch 67/100\n",
      "500/500 [==============================] - 0s 15us/step - loss: 0.0276 - acc: 0.9900\n",
      "Epoch 68/100\n",
      "500/500 [==============================] - 0s 16us/step - loss: 0.0260 - acc: 0.9900\n",
      "Epoch 69/100\n",
      "500/500 [==============================] - 0s 16us/step - loss: 0.0261 - acc: 0.9900\n",
      "Epoch 70/100\n",
      "500/500 [==============================] - 0s 15us/step - loss: 0.0260 - acc: 0.9900\n",
      "Epoch 71/100\n",
      "500/500 [==============================] - 0s 16us/step - loss: 0.0259 - acc: 0.9900\n",
      "Epoch 72/100\n",
      "500/500 [==============================] - 0s 15us/step - loss: 0.0270 - acc: 0.9900\n",
      "Epoch 73/100\n",
      "500/500 [==============================] - 0s 15us/step - loss: 0.0261 - acc: 0.9900\n",
      "Epoch 74/100\n",
      "500/500 [==============================] - 0s 16us/step - loss: 0.0259 - acc: 0.9900\n",
      "Epoch 75/100\n",
      "500/500 [==============================] - 0s 15us/step - loss: 0.0261 - acc: 0.9900\n",
      "Epoch 76/100\n",
      "500/500 [==============================] - 0s 16us/step - loss: 0.0261 - acc: 0.9900\n",
      "Epoch 77/100\n",
      "500/500 [==============================] - 0s 16us/step - loss: 0.0261 - acc: 0.9900\n",
      "Epoch 78/100\n",
      "500/500 [==============================] - 0s 15us/step - loss: 0.0257 - acc: 0.9900\n",
      "Epoch 79/100\n",
      "500/500 [==============================] - 0s 17us/step - loss: 0.0254 - acc: 0.9900\n",
      "Epoch 80/100\n",
      "500/500 [==============================] - 0s 17us/step - loss: 0.0258 - acc: 0.9880\n",
      "Epoch 81/100\n",
      "500/500 [==============================] - 0s 14us/step - loss: 0.0256 - acc: 0.9900\n",
      "Epoch 82/100\n",
      "500/500 [==============================] - 0s 17us/step - loss: 0.0256 - acc: 0.9900\n",
      "Epoch 83/100\n",
      "500/500 [==============================] - 0s 18us/step - loss: 0.0256 - acc: 0.9900\n",
      "Epoch 84/100\n",
      "500/500 [==============================] - 0s 15us/step - loss: 0.0254 - acc: 0.9900\n",
      "Epoch 85/100\n",
      "500/500 [==============================] - 0s 17us/step - loss: 0.0254 - acc: 0.9900\n",
      "Epoch 86/100\n",
      "500/500 [==============================] - 0s 15us/step - loss: 0.0255 - acc: 0.9900\n",
      "Epoch 87/100\n",
      "500/500 [==============================] - 0s 16us/step - loss: 0.0254 - acc: 0.9900\n",
      "Epoch 88/100\n",
      "500/500 [==============================] - 0s 17us/step - loss: 0.0260 - acc: 0.9900\n",
      "Epoch 89/100\n",
      "500/500 [==============================] - 0s 16us/step - loss: 0.0253 - acc: 0.9900\n",
      "Epoch 90/100\n",
      "500/500 [==============================] - 0s 16us/step - loss: 0.0253 - acc: 0.9900\n",
      "Epoch 91/100\n",
      "500/500 [==============================] - 0s 17us/step - loss: 0.0253 - acc: 0.9880\n",
      "Epoch 92/100\n",
      "500/500 [==============================] - 0s 17us/step - loss: 0.0251 - acc: 0.9900\n",
      "Epoch 93/100\n",
      "500/500 [==============================] - 0s 14us/step - loss: 0.0250 - acc: 0.9900\n",
      "Epoch 94/100\n",
      "500/500 [==============================] - 0s 18us/step - loss: 0.0252 - acc: 0.9900\n",
      "Epoch 95/100\n",
      "500/500 [==============================] - 0s 15us/step - loss: 0.0251 - acc: 0.9920\n",
      "Epoch 96/100\n",
      "500/500 [==============================] - 0s 17us/step - loss: 0.0254 - acc: 0.9900\n",
      "Epoch 97/100\n",
      "500/500 [==============================] - 0s 16us/step - loss: 0.0252 - acc: 0.9900\n",
      "Epoch 98/100\n",
      "500/500 [==============================] - 0s 17us/step - loss: 0.0248 - acc: 0.9900\n",
      "Epoch 99/100\n",
      "500/500 [==============================] - 0s 14us/step - loss: 0.0252 - acc: 0.9900\n",
      "Epoch 100/100\n",
      "500/500 [==============================] - 0s 17us/step - loss: 0.0258 - acc: 0.9900\n"
     ]
    },
    {
     "data": {
      "text/plain": [
       "<keras.callbacks.History at 0x13f8def90>"
      ]
     },
     "execution_count": 7,
     "metadata": {},
     "output_type": "execute_result"
    }
   ],
   "source": [
    "model.fit(x=X, y=y_cat, verbose=1, batch_size=50, epochs=100)"
   ]
  },
  {
   "cell_type": "code",
   "execution_count": 8,
   "metadata": {},
   "outputs": [],
   "source": [
    "def plot_multiclass_decision_boundary(X, y, model):\n",
    "    x_span = np.linspace(min(X[:,0]) - 1, max(X[:,0]) + 1)\n",
    "    y_span = np.linspace(min(X[:,1]) - 1, max(X[:,1]) + 1)\n",
    "    xx, yy = np.meshgrid(x_span, y_span)\n",
    "    #xx_, yy_ = xx.ravel(), yy.ravel()\n",
    "    #print(xx_)\n",
    "    #print(yy_)\n",
    "    grid = np.c_[xx.ravel(), yy.ravel()]\n",
    "    pred_func = model.predict_classes(grid)\n",
    "    z = pred_func.reshape(xx.shape)\n",
    "    plt.contourf(xx, yy, z)"
   ]
  },
  {
   "cell_type": "code",
   "execution_count": 9,
   "metadata": {},
   "outputs": [
    {
     "name": "stdout",
     "output_type": "stream",
     "text": [
      "Prediction is:  [1]\n"
     ]
    },
    {
     "data": {
      "image/png": "[encoded data removed]",
      "text/plain": [
       "<Figure size 432x288 with 1 Axes>"
      ]
     },
     "metadata": {
      "needs_background": "light"
     },
     "output_type": "display_data"
    }
   ],
   "source": [
    "plot_multiclass_decision_boundary(X, y_cat, model)\n",
    "plt.scatter(X[y==0, 0], X[y==0, 1])\n",
    "plt.scatter(X[y==1, 0], X[y==1, 1])\n",
    "plt.scatter(X[y==2, 0], X[y==2, 1])\n",
    "\n",
    "plot_multiclass_decision_boundary(X, y_cat, model)\n",
    "plt.scatter(X[y==0, 0], X[y==0, 1])\n",
    "plt.scatter(X[y==1, 0], X[y==1, 1])\n",
    "plt.scatter(X[y==2, 0], X[y==2, 1])\n",
    "\n",
    " \n",
    "x = -0.5\n",
    "y = -0.5\n",
    " \n",
    "point = np.array([[x, y]])\n",
    "prediction = model.predict_classes(point)\n",
    "plt.plot([x], [y], marker='o', markersize=10, color=\"yellow\")\n",
    "print(\"Prediction is: \", prediction)"
   ]
  },
  {
   "cell_type": "code",
   "execution_count": null,
   "metadata": {},
   "outputs": [],
   "source": []
  }
 ],
 "metadata": {
  "kernelspec": {
   "display_name": "Python 3",
   "language": "python",
   "name": "python3"
  },
  "language_info": {
   "codemirror_mode": {
    "name": "ipython",
    "version": 3
   },
   "file_extension": ".py",
   "mimetype": "text/x-python",
   "name": "python",
   "nbconvert_exporter": "python",
   "pygments_lexer": "ipython3",
   "version": "3.7.4"
  }
 },
 "nbformat": 4,
 "nbformat_minor": 4
}
