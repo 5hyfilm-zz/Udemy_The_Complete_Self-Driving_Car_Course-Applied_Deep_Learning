{
 "cells": [
  {
   "cell_type": "code",
   "execution_count": 1,
   "metadata": {},
   "outputs": [
    {
     "name": "stderr",
     "output_type": "stream",
     "text": [
      "Using TensorFlow backend.\n",
      "/Library/Frameworks/Python.framework/Versions/3.7/lib/python3.7/site-packages/tensorflow/python/framework/dtypes.py:516: FutureWarning: Passing (type, 1) or '1type' as a synonym of type is deprecated; in a future version of numpy, it will be understood as (type, (1,)) / '(1,)type'.\n",
      "  _np_qint8 = np.dtype([(\"qint8\", np.int8, 1)])\n",
      "/Library/Frameworks/Python.framework/Versions/3.7/lib/python3.7/site-packages/tensorflow/python/framework/dtypes.py:517: FutureWarning: Passing (type, 1) or '1type' as a synonym of type is deprecated; in a future version of numpy, it will be understood as (type, (1,)) / '(1,)type'.\n",
      "  _np_quint8 = np.dtype([(\"quint8\", np.uint8, 1)])\n",
      "/Library/Frameworks/Python.framework/Versions/3.7/lib/python3.7/site-packages/tensorflow/python/framework/dtypes.py:518: FutureWarning: Passing (type, 1) or '1type' as a synonym of type is deprecated; in a future version of numpy, it will be understood as (type, (1,)) / '(1,)type'.\n",
      "  _np_qint16 = np.dtype([(\"qint16\", np.int16, 1)])\n",
      "/Library/Frameworks/Python.framework/Versions/3.7/lib/python3.7/site-packages/tensorflow/python/framework/dtypes.py:519: FutureWarning: Passing (type, 1) or '1type' as a synonym of type is deprecated; in a future version of numpy, it will be understood as (type, (1,)) / '(1,)type'.\n",
      "  _np_quint16 = np.dtype([(\"quint16\", np.uint16, 1)])\n",
      "/Library/Frameworks/Python.framework/Versions/3.7/lib/python3.7/site-packages/tensorflow/python/framework/dtypes.py:520: FutureWarning: Passing (type, 1) or '1type' as a synonym of type is deprecated; in a future version of numpy, it will be understood as (type, (1,)) / '(1,)type'.\n",
      "  _np_qint32 = np.dtype([(\"qint32\", np.int32, 1)])\n",
      "/Library/Frameworks/Python.framework/Versions/3.7/lib/python3.7/site-packages/tensorflow/python/framework/dtypes.py:525: FutureWarning: Passing (type, 1) or '1type' as a synonym of type is deprecated; in a future version of numpy, it will be understood as (type, (1,)) / '(1,)type'.\n",
      "  np_resource = np.dtype([(\"resource\", np.ubyte, 1)])\n",
      "/Library/Frameworks/Python.framework/Versions/3.7/lib/python3.7/site-packages/tensorboard/compat/tensorflow_stub/dtypes.py:541: FutureWarning: Passing (type, 1) or '1type' as a synonym of type is deprecated; in a future version of numpy, it will be understood as (type, (1,)) / '(1,)type'.\n",
      "  _np_qint8 = np.dtype([(\"qint8\", np.int8, 1)])\n",
      "/Library/Frameworks/Python.framework/Versions/3.7/lib/python3.7/site-packages/tensorboard/compat/tensorflow_stub/dtypes.py:542: FutureWarning: Passing (type, 1) or '1type' as a synonym of type is deprecated; in a future version of numpy, it will be understood as (type, (1,)) / '(1,)type'.\n",
      "  _np_quint8 = np.dtype([(\"quint8\", np.uint8, 1)])\n",
      "/Library/Frameworks/Python.framework/Versions/3.7/lib/python3.7/site-packages/tensorboard/compat/tensorflow_stub/dtypes.py:543: FutureWarning: Passing (type, 1) or '1type' as a synonym of type is deprecated; in a future version of numpy, it will be understood as (type, (1,)) / '(1,)type'.\n",
      "  _np_qint16 = np.dtype([(\"qint16\", np.int16, 1)])\n",
      "/Library/Frameworks/Python.framework/Versions/3.7/lib/python3.7/site-packages/tensorboard/compat/tensorflow_stub/dtypes.py:544: FutureWarning: Passing (type, 1) or '1type' as a synonym of type is deprecated; in a future version of numpy, it will be understood as (type, (1,)) / '(1,)type'.\n",
      "  _np_quint16 = np.dtype([(\"quint16\", np.uint16, 1)])\n",
      "/Library/Frameworks/Python.framework/Versions/3.7/lib/python3.7/site-packages/tensorboard/compat/tensorflow_stub/dtypes.py:545: FutureWarning: Passing (type, 1) or '1type' as a synonym of type is deprecated; in a future version of numpy, it will be understood as (type, (1,)) / '(1,)type'.\n",
      "  _np_qint32 = np.dtype([(\"qint32\", np.int32, 1)])\n",
      "/Library/Frameworks/Python.framework/Versions/3.7/lib/python3.7/site-packages/tensorboard/compat/tensorflow_stub/dtypes.py:550: FutureWarning: Passing (type, 1) or '1type' as a synonym of type is deprecated; in a future version of numpy, it will be understood as (type, (1,)) / '(1,)type'.\n",
      "  np_resource = np.dtype([(\"resource\", np.ubyte, 1)])\n"
     ]
    }
   ],
   "source": [
    "import numpy as np\n",
    "import matplotlib.pyplot as plt\n",
    "from sklearn import datasets\n",
    "import keras\n",
    "from keras.models import Sequential\n",
    "from keras.layers import Dense\n",
    "from keras.optimizers import Adam"
   ]
  },
  {
   "cell_type": "code",
   "execution_count": 2,
   "metadata": {},
   "outputs": [],
   "source": [
    "np.random.seed(0)"
   ]
  },
  {
   "cell_type": "code",
   "execution_count": 3,
   "metadata": {},
   "outputs": [],
   "source": [
    "n_points = 500\n",
    "X, y = datasets.make_circles(n_samples=n_points, random_state=123, noise=0.1, factor=0.2)\n",
    "#print(X)\n",
    "#print(y)"
   ]
  },
  {
   "cell_type": "code",
   "execution_count": 4,
   "metadata": {},
   "outputs": [
    {
     "data": {
      "text/plain": [
       "<matplotlib.collections.PathCollection at 0x13aa7f890>"
      ]
     },
     "execution_count": 4,
     "metadata": {},
     "output_type": "execute_result"
    },
    {
     "data": {
      "image/png": "[encoded data removed]",
      "text/plain": [
       "<Figure size 432x288 with 1 Axes>"
      ]
     },
     "metadata": {
      "needs_background": "light"
     },
     "output_type": "display_data"
    }
   ],
   "source": [
    "plt.scatter(X[y==0, 0], X[y==0, 1])\n",
    "plt.scatter(X[y==1, 0], X[y==1, 1])"
   ]
  },
  {
   "cell_type": "code",
   "execution_count": 5,
   "metadata": {},
   "outputs": [
    {
     "name": "stderr",
     "output_type": "stream",
     "text": [
      "WARNING: Logging before flag parsing goes to stderr.\n",
      "W1006 22:33:42.703218 4619793856 deprecation_wrapper.py:119] From /Library/Frameworks/Python.framework/Versions/3.7/lib/python3.7/site-packages/keras/backend/tensorflow_backend.py:66: The name tf.get_default_graph is deprecated. Please use tf.compat.v1.get_default_graph instead.\n",
      "\n",
      "W1006 22:33:42.718330 4619793856 deprecation_wrapper.py:119] From /Library/Frameworks/Python.framework/Versions/3.7/lib/python3.7/site-packages/keras/backend/tensorflow_backend.py:541: The name tf.placeholder is deprecated. Please use tf.compat.v1.placeholder instead.\n",
      "\n",
      "W1006 22:33:42.720362 4619793856 deprecation_wrapper.py:119] From /Library/Frameworks/Python.framework/Versions/3.7/lib/python3.7/site-packages/keras/backend/tensorflow_backend.py:4432: The name tf.random_uniform is deprecated. Please use tf.random.uniform instead.\n",
      "\n"
     ]
    }
   ],
   "source": [
    "model = Sequential()\n",
    "model.add(Dense(4, input_shape=(2,), activation='sigmoid'))\n",
    "model.add(Dense(1, activation='sigmoid'))"
   ]
  },
  {
   "cell_type": "code",
   "execution_count": 6,
   "metadata": {},
   "outputs": [
    {
     "name": "stderr",
     "output_type": "stream",
     "text": [
      "W1006 22:33:42.766937 4619793856 deprecation_wrapper.py:119] From /Library/Frameworks/Python.framework/Versions/3.7/lib/python3.7/site-packages/keras/optimizers.py:793: The name tf.train.Optimizer is deprecated. Please use tf.compat.v1.train.Optimizer instead.\n",
      "\n",
      "W1006 22:33:42.771587 4619793856 deprecation_wrapper.py:119] From /Library/Frameworks/Python.framework/Versions/3.7/lib/python3.7/site-packages/keras/backend/tensorflow_backend.py:3657: The name tf.log is deprecated. Please use tf.math.log instead.\n",
      "\n",
      "W1006 22:33:42.775305 4619793856 deprecation.py:323] From /Library/Frameworks/Python.framework/Versions/3.7/lib/python3.7/site-packages/tensorflow/python/ops/nn_impl.py:180: add_dispatch_support.<locals>.wrapper (from tensorflow.python.ops.array_ops) is deprecated and will be removed in a future version.\n",
      "Instructions for updating:\n",
      "Use tf.where in 2.0, which has the same broadcast rule as np.where\n"
     ]
    }
   ],
   "source": [
    "model.compile(Adam(lr=0.01), 'binary_crossentropy', metrics=['accuracy'])"
   ]
  },
  {
   "cell_type": "code",
   "execution_count": 7,
   "metadata": {},
   "outputs": [
    {
     "name": "stderr",
     "output_type": "stream",
     "text": [
      "W1006 22:33:42.911050 4619793856 deprecation_wrapper.py:119] From /Library/Frameworks/Python.framework/Versions/3.7/lib/python3.7/site-packages/keras/backend/tensorflow_backend.py:1033: The name tf.assign_add is deprecated. Please use tf.compat.v1.assign_add instead.\n",
      "\n"
     ]
    },
    {
     "name": "stdout",
     "output_type": "stream",
     "text": [
      "Epoch 1/100\n",
      "500/500 [==============================] - 0s 388us/step - loss: 0.6962 - acc: 0.5140\n",
      "Epoch 2/100\n",
      "500/500 [==============================] - 0s 44us/step - loss: 0.6937 - acc: 0.6180\n",
      "Epoch 3/100\n",
      "500/500 [==============================] - 0s 42us/step - loss: 0.6926 - acc: 0.5160\n",
      "Epoch 4/100\n",
      "500/500 [==============================] - 0s 41us/step - loss: 0.6916 - acc: 0.6780\n",
      "Epoch 5/100\n",
      "500/500 [==============================] - 0s 37us/step - loss: 0.6905 - acc: 0.6320\n",
      "Epoch 6/100\n",
      "500/500 [==============================] - 0s 34us/step - loss: 0.6890 - acc: 0.3640\n",
      "Epoch 7/100\n",
      "500/500 [==============================] - 0s 35us/step - loss: 0.6866 - acc: 0.6440\n",
      "Epoch 8/100\n",
      "500/500 [==============================] - 0s 35us/step - loss: 0.6839 - acc: 0.6700\n",
      "Epoch 9/100\n",
      "500/500 [==============================] - 0s 35us/step - loss: 0.6798 - acc: 0.7580\n",
      "Epoch 10/100\n",
      "500/500 [==============================] - 0s 38us/step - loss: 0.6736 - acc: 0.7940\n",
      "Epoch 11/100\n",
      "500/500 [==============================] - 0s 35us/step - loss: 0.6662 - acc: 0.8360\n",
      "Epoch 12/100\n",
      "500/500 [==============================] - 0s 39us/step - loss: 0.6551 - acc: 0.8580\n",
      "Epoch 13/100\n",
      "500/500 [==============================] - 0s 37us/step - loss: 0.6426 - acc: 0.8780\n",
      "Epoch 14/100\n",
      "500/500 [==============================] - 0s 35us/step - loss: 0.6275 - acc: 0.8920\n",
      "Epoch 15/100\n",
      "500/500 [==============================] - 0s 36us/step - loss: 0.6083 - acc: 0.8800\n",
      "Epoch 16/100\n",
      "500/500 [==============================] - 0s 33us/step - loss: 0.5890 - acc: 0.8700\n",
      "Epoch 17/100\n",
      "500/500 [==============================] - 0s 34us/step - loss: 0.5684 - acc: 0.8860\n",
      "Epoch 18/100\n",
      "500/500 [==============================] - 0s 37us/step - loss: 0.5450 - acc: 0.8560\n",
      "Epoch 19/100\n",
      "500/500 [==============================] - 0s 36us/step - loss: 0.5229 - acc: 0.8860\n",
      "Epoch 20/100\n",
      "500/500 [==============================] - 0s 34us/step - loss: 0.4985 - acc: 0.8880\n",
      "Epoch 21/100\n",
      "500/500 [==============================] - 0s 35us/step - loss: 0.4760 - acc: 0.8880\n",
      "Epoch 22/100\n",
      "500/500 [==============================] - 0s 35us/step - loss: 0.4533 - acc: 0.8920\n",
      "Epoch 23/100\n",
      "500/500 [==============================] - 0s 35us/step - loss: 0.4310 - acc: 0.8920\n",
      "Epoch 24/100\n",
      "500/500 [==============================] - 0s 36us/step - loss: 0.4101 - acc: 0.9040\n",
      "Epoch 25/100\n",
      "500/500 [==============================] - 0s 36us/step - loss: 0.3906 - acc: 0.9000\n",
      "Epoch 26/100\n",
      "500/500 [==============================] - 0s 42us/step - loss: 0.3709 - acc: 0.9120\n",
      "Epoch 27/100\n",
      "500/500 [==============================] - 0s 36us/step - loss: 0.3524 - acc: 0.9100\n",
      "Epoch 28/100\n",
      "500/500 [==============================] - 0s 39us/step - loss: 0.3352 - acc: 0.9160\n",
      "Epoch 29/100\n",
      "500/500 [==============================] - 0s 39us/step - loss: 0.3183 - acc: 0.9180\n",
      "Epoch 30/100\n",
      "500/500 [==============================] - 0s 40us/step - loss: 0.3028 - acc: 0.9220\n",
      "Epoch 31/100\n",
      "500/500 [==============================] - 0s 38us/step - loss: 0.2877 - acc: 0.9240\n",
      "Epoch 32/100\n",
      "500/500 [==============================] - 0s 39us/step - loss: 0.2740 - acc: 0.9320\n",
      "Epoch 33/100\n",
      "500/500 [==============================] - 0s 39us/step - loss: 0.2611 - acc: 0.9400\n",
      "Epoch 34/100\n",
      "500/500 [==============================] - 0s 41us/step - loss: 0.2491 - acc: 0.9440\n",
      "Epoch 35/100\n",
      "500/500 [==============================] - 0s 37us/step - loss: 0.2374 - acc: 0.9620\n",
      "Epoch 36/100\n",
      "500/500 [==============================] - 0s 38us/step - loss: 0.2263 - acc: 0.9780\n",
      "Epoch 37/100\n",
      "500/500 [==============================] - 0s 36us/step - loss: 0.2164 - acc: 0.9860\n",
      "Epoch 38/100\n",
      "500/500 [==============================] - 0s 38us/step - loss: 0.2064 - acc: 0.9860\n",
      "Epoch 39/100\n",
      "500/500 [==============================] - 0s 40us/step - loss: 0.1970 - acc: 0.9900\n",
      "Epoch 40/100\n",
      "500/500 [==============================] - 0s 40us/step - loss: 0.1880 - acc: 0.9940\n",
      "Epoch 41/100\n",
      "500/500 [==============================] - 0s 37us/step - loss: 0.1796 - acc: 0.9940\n",
      "Epoch 42/100\n",
      "500/500 [==============================] - 0s 40us/step - loss: 0.1715 - acc: 0.9940\n",
      "Epoch 43/100\n",
      "500/500 [==============================] - 0s 40us/step - loss: 0.1639 - acc: 0.9960\n",
      "Epoch 44/100\n",
      "500/500 [==============================] - 0s 40us/step - loss: 0.1565 - acc: 0.9960\n",
      "Epoch 45/100\n",
      "500/500 [==============================] - 0s 37us/step - loss: 0.1495 - acc: 0.9960\n",
      "Epoch 46/100\n",
      "500/500 [==============================] - 0s 35us/step - loss: 0.1424 - acc: 0.9960\n",
      "Epoch 47/100\n",
      "500/500 [==============================] - 0s 37us/step - loss: 0.1355 - acc: 0.9960\n",
      "Epoch 48/100\n",
      "500/500 [==============================] - 0s 39us/step - loss: 0.1286 - acc: 0.9960\n",
      "Epoch 49/100\n",
      "500/500 [==============================] - 0s 43us/step - loss: 0.1215 - acc: 0.9960\n",
      "Epoch 50/100\n",
      "500/500 [==============================] - 0s 36us/step - loss: 0.1150 - acc: 0.9960\n",
      "Epoch 51/100\n",
      "500/500 [==============================] - 0s 38us/step - loss: 0.1083 - acc: 0.9960\n",
      "Epoch 52/100\n",
      "500/500 [==============================] - 0s 37us/step - loss: 0.1023 - acc: 0.9960\n",
      "Epoch 53/100\n",
      "500/500 [==============================] - 0s 35us/step - loss: 0.0968 - acc: 0.9960\n",
      "Epoch 54/100\n",
      "500/500 [==============================] - 0s 38us/step - loss: 0.0915 - acc: 0.9960\n",
      "Epoch 55/100\n",
      "500/500 [==============================] - 0s 38us/step - loss: 0.0868 - acc: 0.9960\n",
      "Epoch 56/100\n",
      "500/500 [==============================] - 0s 39us/step - loss: 0.0825 - acc: 0.9960\n",
      "Epoch 57/100\n",
      "500/500 [==============================] - 0s 37us/step - loss: 0.0784 - acc: 0.9980\n",
      "Epoch 58/100\n",
      "500/500 [==============================] - 0s 40us/step - loss: 0.0748 - acc: 0.9980\n",
      "Epoch 59/100\n",
      "500/500 [==============================] - 0s 35us/step - loss: 0.0714 - acc: 0.9980\n",
      "Epoch 60/100\n",
      "500/500 [==============================] - 0s 36us/step - loss: 0.0684 - acc: 0.9980\n",
      "Epoch 61/100\n",
      "500/500 [==============================] - 0s 35us/step - loss: 0.0654 - acc: 0.9980\n",
      "Epoch 62/100\n",
      "500/500 [==============================] - 0s 37us/step - loss: 0.0627 - acc: 0.9980\n",
      "Epoch 63/100\n",
      "500/500 [==============================] - 0s 39us/step - loss: 0.0603 - acc: 0.9980\n",
      "Epoch 64/100\n",
      "500/500 [==============================] - 0s 40us/step - loss: 0.0579 - acc: 0.9980\n",
      "Epoch 65/100\n",
      "500/500 [==============================] - 0s 44us/step - loss: 0.0557 - acc: 0.9980\n",
      "Epoch 66/100\n",
      "500/500 [==============================] - 0s 41us/step - loss: 0.0537 - acc: 0.9980\n",
      "Epoch 67/100\n",
      "500/500 [==============================] - 0s 36us/step - loss: 0.0519 - acc: 0.9980\n",
      "Epoch 68/100\n",
      "500/500 [==============================] - 0s 41us/step - loss: 0.0500 - acc: 0.9980\n",
      "Epoch 69/100\n",
      "500/500 [==============================] - 0s 38us/step - loss: 0.0484 - acc: 0.9980\n",
      "Epoch 70/100\n",
      "500/500 [==============================] - 0s 40us/step - loss: 0.0468 - acc: 0.9980\n",
      "Epoch 71/100\n",
      "500/500 [==============================] - 0s 37us/step - loss: 0.0453 - acc: 0.9980\n",
      "Epoch 72/100\n",
      "500/500 [==============================] - 0s 38us/step - loss: 0.0439 - acc: 0.9980\n",
      "Epoch 73/100\n",
      "500/500 [==============================] - 0s 37us/step - loss: 0.0425 - acc: 0.9980\n",
      "Epoch 74/100\n",
      "500/500 [==============================] - 0s 38us/step - loss: 0.0412 - acc: 0.9980\n",
      "Epoch 75/100\n",
      "500/500 [==============================] - 0s 37us/step - loss: 0.0400 - acc: 0.9980\n",
      "Epoch 76/100\n",
      "500/500 [==============================] - 0s 39us/step - loss: 0.0388 - acc: 0.9980\n",
      "Epoch 77/100\n",
      "500/500 [==============================] - 0s 41us/step - loss: 0.0377 - acc: 0.9980\n",
      "Epoch 78/100\n",
      "500/500 [==============================] - 0s 39us/step - loss: 0.0367 - acc: 0.9980\n",
      "Epoch 79/100\n",
      "500/500 [==============================] - 0s 39us/step - loss: 0.0357 - acc: 0.9980\n",
      "Epoch 80/100\n",
      "500/500 [==============================] - 0s 40us/step - loss: 0.0348 - acc: 0.9980\n",
      "Epoch 81/100\n",
      "500/500 [==============================] - 0s 35us/step - loss: 0.0340 - acc: 0.9980\n",
      "Epoch 82/100\n",
      "500/500 [==============================] - 0s 42us/step - loss: 0.0329 - acc: 0.9980\n",
      "Epoch 83/100\n",
      "500/500 [==============================] - 0s 39us/step - loss: 0.0321 - acc: 0.9980\n",
      "Epoch 84/100\n",
      "500/500 [==============================] - 0s 40us/step - loss: 0.0312 - acc: 0.9980\n",
      "Epoch 85/100\n",
      "500/500 [==============================] - 0s 46us/step - loss: 0.0305 - acc: 0.9980\n",
      "Epoch 86/100\n",
      "500/500 [==============================] - 0s 37us/step - loss: 0.0298 - acc: 1.0000\n",
      "Epoch 87/100\n",
      "500/500 [==============================] - 0s 40us/step - loss: 0.0290 - acc: 1.0000\n",
      "Epoch 88/100\n",
      "500/500 [==============================] - 0s 37us/step - loss: 0.0284 - acc: 1.0000\n",
      "Epoch 89/100\n",
      "500/500 [==============================] - 0s 39us/step - loss: 0.0277 - acc: 1.0000\n",
      "Epoch 90/100\n",
      "500/500 [==============================] - 0s 37us/step - loss: 0.0270 - acc: 1.0000\n",
      "Epoch 91/100\n",
      "500/500 [==============================] - 0s 40us/step - loss: 0.0264 - acc: 1.0000\n",
      "Epoch 92/100\n",
      "500/500 [==============================] - 0s 37us/step - loss: 0.0259 - acc: 1.0000\n",
      "Epoch 93/100\n",
      "500/500 [==============================] - 0s 41us/step - loss: 0.0253 - acc: 1.0000\n",
      "Epoch 94/100\n",
      "500/500 [==============================] - 0s 36us/step - loss: 0.0247 - acc: 1.0000\n",
      "Epoch 95/100\n",
      "500/500 [==============================] - 0s 40us/step - loss: 0.0242 - acc: 1.0000\n",
      "Epoch 96/100\n",
      "500/500 [==============================] - 0s 37us/step - loss: 0.0237 - acc: 1.0000\n",
      "Epoch 97/100\n",
      "500/500 [==============================] - 0s 40us/step - loss: 0.0232 - acc: 1.0000\n",
      "Epoch 98/100\n",
      "500/500 [==============================] - 0s 37us/step - loss: 0.0227 - acc: 1.0000\n",
      "Epoch 99/100\n",
      "500/500 [==============================] - 0s 38us/step - loss: 0.0222 - acc: 1.0000\n",
      "Epoch 100/100\n",
      "500/500 [==============================] - 0s 39us/step - loss: 0.0217 - acc: 1.0000\n"
     ]
    }
   ],
   "source": [
    "history = model.fit(x=X, y=y, verbose=1, batch_size=20, epochs=100, shuffle='true')"
   ]
  },
  {
   "cell_type": "code",
   "execution_count": 8,
   "metadata": {},
   "outputs": [
    {
     "data": {
      "text/plain": [
       "Text(0.5, 1.0, 'accuracy')"
      ]
     },
     "execution_count": 8,
     "metadata": {},
     "output_type": "execute_result"
    },
    {
     "data": {
      "image/png": "[encoded data removed]",
      "text/plain": [
       "<Figure size 432x288 with 1 Axes>"
      ]
     },
     "metadata": {
      "needs_background": "light"
     },
     "output_type": "display_data"
    }
   ],
   "source": [
    "plt.plot(history.history['acc'])\n",
    "plt.xlabel('epochs')\n",
    "plt.legend(['accuracy'])\n",
    "plt.title('accuracy')"
   ]
  },
  {
   "cell_type": "code",
   "execution_count": 9,
   "metadata": {},
   "outputs": [
    {
     "data": {
      "text/plain": [
       "Text(0.5, 1.0, 'loss')"
      ]
     },
     "execution_count": 9,
     "metadata": {},
     "output_type": "execute_result"
    },
    {
     "data": {
      "image/png": "[encoded data removed]",
      "text/plain": [
       "<Figure size 432x288 with 1 Axes>"
      ]
     },
     "metadata": {
      "needs_background": "light"
     },
     "output_type": "display_data"
    }
   ],
   "source": [
    "plt.plot(history.history['loss'])\n",
    "plt.xlabel('epochs')\n",
    "plt.legend(['loss'])\n",
    "plt.title('loss')"
   ]
  },
  {
   "cell_type": "code",
   "execution_count": 10,
   "metadata": {},
   "outputs": [],
   "source": [
    "def plot_decision_boundary(X, y, model):\n",
    "    x_span = np.linspace(min(X[:,0])-0.25, max(X[:,0]) + 0.25)\n",
    "    y_span = np.linspace(min(X[:,1])-0.25, max(X[:,1]) + 0.25)\n",
    "    xx, yy = np.meshgrid(x_span, y_span)\n",
    "    #xx_, yy_ = xx.ravel(), yy.ravel()\n",
    "    #print(xx_)\n",
    "    #print(yy_)\n",
    "    grid = np.c_[xx.ravel(), yy.ravel()]\n",
    "    pred_func = model.predict(grid)\n",
    "    z = pred_func.reshape(xx.shape)\n",
    "    plt.contourf(xx, yy, z)"
   ]
  },
  {
   "cell_type": "code",
   "execution_count": 11,
   "metadata": {},
   "outputs": [
    {
     "name": "stdout",
     "output_type": "stream",
     "text": [
      "Prediction is:  [[0.02506577]]\n"
     ]
    },
    {
     "data": {
      "image/png": "[encoded data removed]",
      "text/plain": [
       "<Figure size 432x288 with 1 Axes>"
      ]
     },
     "metadata": {
      "needs_background": "light"
     },
     "output_type": "display_data"
    }
   ],
   "source": [
    "plot_decision_boundary(X, y, model)\n",
    "plt.scatter(X[:n_points, 0], X[:n_points, 1])\n",
    "x= 0.1\n",
    "y = 0.75\n",
    "point = np.array([[x, y]])\n",
    "prediction = model.predict(point)\n",
    "plt.plot([x], [y], marker='o', markersize=10, color=\"red\")\n",
    "print(\"Prediction is: \", prediction)"
   ]
  }
 ],
 "metadata": {
  "kernelspec": {
   "display_name": "Python 3",
   "language": "python",
   "name": "python3"
  },
  "language_info": {
   "codemirror_mode": {
    "name": "ipython",
    "version": 3
   },
   "file_extension": ".py",
   "mimetype": "text/x-python",
   "name": "python",
   "nbconvert_exporter": "python",
   "pygments_lexer": "ipython3",
   "version": "3.7.4"
  }
 },
 "nbformat": 4,
 "nbformat_minor": 4
}
